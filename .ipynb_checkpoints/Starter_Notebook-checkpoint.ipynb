{
 "cells": [
  {
   "cell_type": "markdown",
   "metadata": {},
   "source": [
    "<img src=\"Images/DSD.PNG\">\n"
   ]
  },
  {
   "cell_type": "code",
   "execution_count": 1,
   "metadata": {},
   "outputs": [],
   "source": [
    "#Import Required packages\n",
    "import pandas as pd\n",
    "import numpy as np\n",
    "import plotly.graph_objects as go\n",
    "import plotly.express as px\n",
    "import ipywidgets as widgets\n",
    "from IPython.display import display\n",
    "import io\n",
    "import boto3"
   ]
  },
  {
   "cell_type": "markdown",
   "metadata": {
    "heading_collapsed": true
   },
   "source": [
    "# Get Started: Import Data From Local"
   ]
  },
  {
   "cell_type": "code",
   "execution_count": 3,
   "metadata": {
    "hidden": true
   },
   "outputs": [
    {
     "data": {
      "application/vnd.jupyter.widget-view+json": {
       "model_id": "1e202ad4f1614ad39b812865c261e55b",
       "version_major": 2,
       "version_minor": 0
      },
      "text/plain": [
       "FileUpload(value={}, accept='.csv', description='Upload')"
      ]
     },
     "metadata": {},
     "output_type": "display_data"
    },
    {
     "name": "stdout",
     "output_type": "stream",
     "text": [
      "Done!\n"
     ]
    }
   ],
   "source": [
    "def on_upload(change):\n",
    "    value = change['new']\n",
    "    df = pd.read_csv(io.BytesIO(uploader.value[next(iter(uploader.value))]['content']))\n",
    "    df.to_csv('use.csv')\n",
    "    print('Done!')\n",
    "    \n",
    "\n",
    "uploader = widgets.FileUpload(\n",
    "    accept='.csv',  # Accepted file extension e.g. '.txt', '.pdf', 'image/*', 'image/*,.pdf'\n",
    "    multiple=False  # True to accept multiple files upload else False\n",
    ")\n",
    "            \n",
    "uploader.observe(on_upload, 'value')\n",
    "\n",
    "display(uploader)"
   ]
  },
  {
   "cell_type": "markdown",
   "metadata": {
    "heading_collapsed": true
   },
   "source": [
    "# Get Started: Import Data From S3"
   ]
  },
  {
   "cell_type": "code",
   "execution_count": 4,
   "metadata": {
    "hidden": true
   },
   "outputs": [
    {
     "data": {
      "application/vnd.jupyter.widget-view+json": {
       "model_id": "485efb84b5534d7695e7c741cf6ef425",
       "version_major": 2,
       "version_minor": 0
      },
      "text/plain": [
       "VBox(children=(HBox(children=(Text(value='', description='Bucket:', placeholder='Bucket Name'), Text(value='',…"
      ]
     },
     "metadata": {},
     "output_type": "display_data"
    }
   ],
   "source": [
    "def gets3(val=''):\n",
    "    #keys = pd.read_csv(io.BytesIO(key_uploader.value[next(iter(key_uploader.value))]['content']))\n",
    "    keys = pd.read_csv('~/work/new_user_credentials.csv')\n",
    "\n",
    "\n",
    "    bucket1 = bucket.value\n",
    "    key1 = key.value\n",
    "\n",
    "    s3 = boto3.client(\"s3\", \n",
    "                      region_name='us-gov-west-1', \n",
    "                      aws_access_key_id=keys['Access key ID'].iloc[0], \n",
    "                      aws_secret_access_key=keys['Secret access key'].iloc[0])\n",
    "\n",
    "    response = s3.get_object(Bucket=bucket1, Key=key1)\n",
    "\n",
    "    df = pd.read_csv(response['Body'])\n",
    "    df.to_csv('use.csv')\n",
    "    print('Done!')\n",
    "\n",
    "bucket = widgets.Text(placeholder='Bucket Name',description='Bucket:',disabled=False)\n",
    "\n",
    "key = widgets.Text(placeholder='File Name',description='Key:',disabled=False)\n",
    "\n",
    "GetFile = widgets.Button(description='Upload From S3',)\n",
    "\n",
    "GetFile.on_click(gets3)\n",
    "\n",
    "input_dash = widgets.VBox([widgets.HBox([bucket,key]),GetFile])\n",
    "\n",
    "display(input_dash)\n"
   ]
  },
  {
   "cell_type": "markdown",
   "metadata": {
    "heading_collapsed": true
   },
   "source": [
    "# About this notebook"
   ]
  },
  {
   "cell_type": "markdown",
   "metadata": {
    "hidden": true
   },
   "source": [
    "This notebook is a starting point for several types of analysis gives the basic to import a csv.  That said, the notebook is built to work with data in a csv form.   Uploading a file from s3 or from local will result in a file being saved locally called use.csv.   "
   ]
  },
  {
   "cell_type": "code",
   "execution_count": 5,
   "metadata": {
    "hidden": true
   },
   "outputs": [],
   "source": [
    "try:\n",
    "    df = pd.read_csv('use.csv')\n",
    "except: \n",
    "    print('no input file found')"
   ]
  }
 ],
 "metadata": {
  "hide_input": false,
  "kernelspec": {
   "display_name": "Python 3",
   "language": "python",
   "name": "python3"
  },
  "language_info": {
   "codemirror_mode": {
    "name": "ipython",
    "version": 3
   },
   "file_extension": ".py",
   "mimetype": "text/x-python",
   "name": "python",
   "nbconvert_exporter": "python",
   "pygments_lexer": "ipython3",
   "version": "3.7.6"
  },
  "toc": {
   "base_numbering": 1,
   "nav_menu": {},
   "number_sections": true,
   "sideBar": true,
   "skip_h1_title": false,
   "title_cell": "Table of Contents",
   "title_sidebar": "Contents",
   "toc_cell": false,
   "toc_position": {},
   "toc_section_display": true,
   "toc_window_display": false
  }
 },
 "nbformat": 4,
 "nbformat_minor": 4
}
